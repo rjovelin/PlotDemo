{
 "cells": [
  {
   "cell_type": "markdown",
   "metadata": {},
   "source": [
    "# Plotting demo using python matplotlib\n",
    "\n",
    "*Example python libraries:*\n",
    "* matplotlib\n",
    "* seaborn\n",
    "* ggplot\n",
    "\n",
    "## Pros \n",
    "* versatile\n",
    "* allows control over all aspects of the plot\n",
    "* no need for intermediate files\n",
    "* integration of plotting function within your script\n",
    "\n",
    "## Cons\n",
    "* steep learning curve\n",
    "* rich but complicated documentation\n",
    "* synthax varies among graph types"
   ]
  },
  {
   "cell_type": "code",
   "execution_count": null,
   "metadata": {
    "collapsed": true
   },
   "outputs": [],
   "source": [
    "# import modules\n",
    "import matplotlib as mpl\n",
    "import matplotlib.pyplot as plt\n",
    "import matplotlib.patches as mpatches\n",
    "import math\n",
    "import numpy as np\n",
    "import json\n",
    "\n",
    "# display graphic inline in notebook\n",
    "%matplotlib inline\n",
    "\n",
    "#import seaborn as sns\n",
    "#sns.set_style('darkgrid')"
   ]
  },
  {
   "cell_type": "markdown",
   "metadata": {},
   "source": [
    "### Working example:\n",
    "Plot data with box plots"
   ]
  },
  {
   "cell_type": "code",
   "execution_count": null,
   "metadata": {
    "collapsed": true
   },
   "outputs": [],
   "source": [
    "# load data stored as json object\n",
    "infile = open('DemoData.json')\n",
    "Data = json.load(infile)\n",
    "infile.close()   "
   ]
  },
  {
   "cell_type": "markdown",
   "metadata": {
    "collapsed": true
   },
   "source": [
    "# 1) Standard matplotlib output"
   ]
  },
  {
   "cell_type": "code",
   "execution_count": null,
   "metadata": {
    "collapsed": true
   },
   "outputs": [],
   "source": [
    "# create figure\n",
    "figure = plt.figure(1, figsize = (8, 5))\n",
    "# add 1 plot to figure\n",
    "ax = figure.add_subplot(1, 1, 1)\n",
    "# plot data with boxplots\n",
    "bp = ax.boxplot(Data, widths=0.3, positions=[i/10 for i in range(0, 56, 4)])"
   ]
  },
  {
   "cell_type": "markdown",
   "metadata": {
    "collapsed": true
   },
   "source": [
    "# 2) Add axis labels "
   ]
  },
  {
   "cell_type": "code",
   "execution_count": null,
   "metadata": {
    "collapsed": true
   },
   "outputs": [],
   "source": [
    "# create figure\n",
    "figure = plt.figure(1, figsize = (8, 5))\n",
    "# add 1 plot to figure\n",
    "ax = figure.add_subplot(1, 1, 1)\n",
    "# plot data with boxplots\n",
    "bp = ax.boxplot(Data, widths=0.3, positions=[i/10 for i in range(0, 56, 4)])\n",
    "\n",
    "# -------------changes below-------------\n",
    "# write axis labels\n",
    "ax.set_ylabel('Coverage', color='black', size=14, ha='center', weight= 'normal')\n",
    "ax.set_xlabel('Chromosomes', color='black', size=14, ha='center', weight='normal')\n",
    "# edit tick labels\n",
    "Chromosomes = ['1', '3', '4', '4', '6', '8', '9', '10', '15', '16', '19', '19', '19', '22']\n",
    "plt.xticks([i/10 for i in range(0, 56, 4)], Chromosomes, ha='center', fontsize=12)\n",
    "# edit tick label size\n",
    "plt.tick_params(axis='both', which='both', labelsize = 12)\n",
    "\n",
    "# add splace bewteen axis and tick labels\n",
    "ax.yaxis.labelpad = 17\n",
    "ax.xaxis.labelpad = 17\n",
    "    \n"
   ]
  },
  {
   "cell_type": "markdown",
   "metadata": {},
   "source": [
    "# 3) Get rid of frame lines, add background lines and title"
   ]
  },
  {
   "cell_type": "code",
   "execution_count": null,
   "metadata": {
    "collapsed": true
   },
   "outputs": [],
   "source": [
    "# create figure\n",
    "figure = plt.figure(1, figsize = (8, 5))\n",
    "# add 1 plot to figure\n",
    "ax = figure.add_subplot(1, 1, 1)\n",
    "# plot data with boxplots\n",
    "bp = ax.boxplot(Data, widths=0.3, positions=[i/10 for i in range(0, 56, 4)])\n",
    "# write axis labels\n",
    "ax.set_ylabel('Coverage', color='black', size=14, ha='center', weight= 'normal')\n",
    "ax.set_xlabel('Chromosomes', color='black', size=14, ha='center', weight='normal')\n",
    "# edit tick labels\n",
    "Chromosomes = ['1', '3', '4', '4', '6', '8', '9', '10', '15', '16', '19', '19', '19', '22']\n",
    "plt.xticks([i/10 for i in range(0, 56, 4)], Chromosomes, ha='center', fontsize=12)\n",
    "# add splace bewteen axis and tick labels\n",
    "ax.yaxis.labelpad = 17\n",
    "ax.xaxis.labelpad = 17\n",
    "\n",
    "# -------------changes below-------------\n",
    "# add title   \n",
    "ax.set_title('Coverage per region N = {0}'.format(len(Data[0])), size = 14, weight='bold')\n",
    "\n",
    "# do not show frame lines  \n",
    "ax.spines[\"top\"].set_visible(False)    \n",
    "ax.spines[\"bottom\"].set_visible(True)    \n",
    "ax.spines[\"right\"].set_visible(False)    \n",
    "ax.spines[\"left\"].set_visible(False)  \n",
    "# offset the bottom line\n",
    "for spine in ax.spines.values():\n",
    "    spine.set_position(('outward', 5))\n",
    "    \n",
    "# keep ticks only along the x axis, edit font size and change tick direction\n",
    "plt.tick_params(axis='both', which='both', bottom=True, top=False, right=False, left=False,\n",
    "                labelbottom=True, colors = 'black', labelsize = 12, direction = 'out')\n",
    "    \n",
    "# add a light grey horizontal grid to the plot, semi-transparent, \n",
    "ax.yaxis.grid(True, linestyle='-', which='major', color='lightgrey', alpha=0.7, linewidth = 0.5)  \n",
    "# hide these grids behind plot objects\n",
    "ax.set_axisbelow(True)\n",
    "\n"
   ]
  },
  {
   "cell_type": "markdown",
   "metadata": {},
   "source": [
    "# 4) Remove outliers and add data points"
   ]
  },
  {
   "cell_type": "code",
   "execution_count": null,
   "metadata": {
    "collapsed": true
   },
   "outputs": [],
   "source": [
    "# create figure\n",
    "figure = plt.figure(1, figsize = (8, 5))\n",
    "# add 1 plot to figure\n",
    "ax = figure.add_subplot(1, 1, 1)\n",
    "\n",
    "# -------------changes below-------------\n",
    "# add data points\n",
    "# shift data points randomly along the x axis to display points\n",
    "# by default points are aligned on the x axis tick\n",
    "BoxPos = [i/10 for i in range(0, 56, 4)]\n",
    "for i in range(len(Data)):\n",
    "    y = Data[i]\n",
    "    x = np.random.normal(BoxPos[i], 0.04, size=len(y))\n",
    "    ax.plot(x, y, '.', alpha=0.2, markersize=6, markeredgewidth=0.5)\n",
    "\n",
    "# plot data with boxplots\n",
    "# specify box plot order with zorder =2\n",
    "bp = ax.boxplot(Data, showmeans=False, showfliers=False, widths=0.3,\n",
    "                positions=[i/10 for i in range(0, 56, 4)], zorder=2)\n",
    "\n",
    "# -------------ending changes -------------\n",
    "\n",
    "# write axis labels\n",
    "ax.set_ylabel('Coverage', color='black', size=14, ha='center', weight= 'normal')\n",
    "ax.set_xlabel('Chromosomes', color='black', size=14, ha='center', weight='normal')\n",
    "# edit tick labels\n",
    "Chromosomes = ['1', '3', '4', '4', '6', '8', '9', '10', '15', '16', '19', '19', '19', '22']\n",
    "plt.xticks([i/10 for i in range(0, 56, 4)], Chromosomes, ha='center', fontsize=12)\n",
    "# add splace bewteen axis and tick labels\n",
    "ax.yaxis.labelpad = 17\n",
    "ax.xaxis.labelpad = 17\n",
    "\n",
    "# add title   \n",
    "ax.set_title('Coverage per region N = {0}'.format(len(Data[0])), size = 14, weight='bold')\n",
    "\n",
    "# do not show frame lines  \n",
    "ax.spines[\"top\"].set_visible(False)    \n",
    "ax.spines[\"bottom\"].set_visible(True)    \n",
    "ax.spines[\"right\"].set_visible(False)    \n",
    "ax.spines[\"left\"].set_visible(False)  \n",
    "# offset the bottom line\n",
    "for spine in ax.spines.values():\n",
    "    spine.set_position(('outward', 5))\n",
    "    \n",
    "# keep ticks only along the x axis, edit font size and change tick direction\n",
    "plt.tick_params(axis='both', which='both', bottom=True, top=False, right=False, left=False,\n",
    "                labelbottom=True, colors = 'black', labelsize = 12, direction = 'out')\n",
    "    \n",
    "# add a light grey horizontal grid to the plot, semi-transparent, \n",
    "ax.yaxis.grid(True, linestyle='-', which='major', color='lightgrey', alpha=0.7, linewidth = 0.5)  \n",
    "# hide these grids behind plot objects\n",
    "ax.set_axisbelow(True)"
   ]
  },
  {
   "cell_type": "markdown",
   "metadata": {},
   "source": [
    "# 5) Color data points and add legend"
   ]
  },
  {
   "cell_type": "code",
   "execution_count": null,
   "metadata": {
    "collapsed": true
   },
   "outputs": [],
   "source": [
    "## create figure\n",
    "figure = plt.figure(1, figsize = (8, 5))\n",
    "# add 1 plot to figure\n",
    "ax = figure.add_subplot(1, 1, 1)\n",
    "\n",
    "# -------------changes below-------------\n",
    "# add data points\n",
    "# shift data points randomly along the x axis to display points\n",
    "# by default points are aligned on the x axis tick\n",
    "BoxPos = [i/10 for i in range(0, 56, 4)]\n",
    "\n",
    "# store marker colors in dict according to position on x-axis \n",
    "Colors = {0: ['#f768a1', '#c51b8a'], 1: ['#bdd7e7', '#6baed6'], 2: ['#bdd7e7', '#6baed6'],\n",
    "          3: ['#c2e699', '#78c679'], 4: ['#f768a1', '#c51b8a'], 5: ['#f768a1', '#c51b8a'],\n",
    "          6: ['#f768a1', '#c51b8a'], 7: ['#f768a1', '#c51b8a'], 8: ['#f768a1', '#c51b8a'],\n",
    "          9: ['#f768a1', '#c51b8a'], 10: ['#bdd7e7', '#6baed6'], 11: ['#f768a1', '#c51b8a'],\n",
    "          12: ['#bdd7e7', '#6baed6'], 13: ['#f768a1', '#c51b8a']}\n",
    "\n",
    "for i in range(len(Data)):\n",
    "    y = Data[i]\n",
    "    x = np.random.normal(BoxPos[i], 0.04, size=len(y))\n",
    "    MarkerFace, MarkerEdge = Colors[i][0], Colors[i][1]\n",
    "    ax.plot(x, y, '.', alpha=0.2, markerfacecolor=MarkerFace, markeredgecolor=MarkerEdge,\n",
    "            markersize=6, markeredgewidth=0.5)\n",
    "\n",
    "# plot data with boxplots\n",
    "# specify box plot order with zorder =2\n",
    "bp = ax.boxplot(Data, showmeans=False, showfliers=False, widths=0.3,\n",
    "                positions=[i/10 for i in range(0, 56, 4)], zorder=2)\n",
    "\n",
    "# -------------ending changes -------------\n",
    "\n",
    "# write axis labels\n",
    "ax.set_ylabel('Coverage', color='black', size=14, ha='center', weight= 'normal')\n",
    "ax.set_xlabel('Chromosomes', color='black', size=14, ha='center', weight='normal')\n",
    "# edit tick labels\n",
    "Chromosomes = ['1', '3', '4', '4', '6', '8', '9', '10', '15', '16', '19', '19', '19', '22']\n",
    "plt.xticks([i/10 for i in range(0, 56, 4)], Chromosomes, ha='center', fontsize=12)\n",
    "# add splace bewteen axis and tick labels\n",
    "ax.yaxis.labelpad = 17\n",
    "ax.xaxis.labelpad = 17\n",
    "\n",
    "# add title   \n",
    "ax.set_title('Coverage per region N = {0}'.format(len(Data[0])), size = 14, weight='bold')\n",
    "\n",
    "# do not show frame lines  \n",
    "ax.spines[\"top\"].set_visible(False)    \n",
    "ax.spines[\"bottom\"].set_visible(True)    \n",
    "ax.spines[\"right\"].set_visible(False)    \n",
    "ax.spines[\"left\"].set_visible(False)  \n",
    "# offset the bottom line\n",
    "for spine in ax.spines.values():\n",
    "    spine.set_position(('outward', 5))\n",
    "    \n",
    "# keep ticks only along the x axis, edit font size and change tick direction\n",
    "plt.tick_params(axis='both', which='both', bottom=True, top=False, right=False, left=False,\n",
    "                labelbottom=True, colors = 'black', labelsize = 12, direction = 'out')\n",
    "    \n",
    "# add a light grey horizontal grid to the plot, semi-transparent, \n",
    "ax.yaxis.grid(True, linestyle='-', which='major', color='lightgrey', alpha=0.7, linewidth = 0.5)  \n",
    "# hide these grids behind plot objects\n",
    "ax.set_axisbelow(True)\n",
    "\n",
    "# -------------changes below-------------\n",
    "# add legend\n",
    "C = mpatches.Circle((0.5,0.5), 0.25, facecolor = '#f768a1', edgecolor = 'black', linewidth = 0.5, label= 'captured')\n",
    "N = mpatches.Circle((0.5,0.5), 0.25, facecolor = '#bdd7e7', edgecolor = 'black', linewidth = 0.5, label= 'not captured')\n",
    "M = mpatches.Circle((0.5,0.5), 0.25, facecolor = '#c2e699', edgecolor = 'black', linewidth = 0.5, label= 'mixed')\n",
    "ax.legend(handles = [C, N, M], loc = (0.07, 0.92), fontsize = 10, frameon = False, ncol = 3)"
   ]
  },
  {
   "cell_type": "markdown",
   "metadata": {
    "collapsed": true
   },
   "source": [
    "# 6) Change box appearance"
   ]
  },
  {
   "cell_type": "code",
   "execution_count": null,
   "metadata": {
    "collapsed": true
   },
   "outputs": [],
   "source": [
    "# create figure\n",
    "figure = plt.figure(1, figsize = (8, 5))\n",
    "# add 1 plot to figure\n",
    "ax = figure.add_subplot(1, 1, 1)\n",
    "\n",
    "# add data points\n",
    "# shift data points randomly along the x axis to display points\n",
    "# by default points are aligned on the x axis tick\n",
    "BoxPos = [i/10 for i in range(0, 56, 4)]\n",
    "\n",
    "# store marker colors in dict according to position on x-axis \n",
    "Colors = {0: ['#f768a1', '#c51b8a'], 1: ['#bdd7e7', '#6baed6'], 2: ['#bdd7e7', '#6baed6'],\n",
    "          3: ['#c2e699', '#78c679'], 4: ['#f768a1', '#c51b8a'], 5: ['#f768a1', '#c51b8a'],\n",
    "          6: ['#f768a1', '#c51b8a'], 7: ['#f768a1', '#c51b8a'], 8: ['#f768a1', '#c51b8a'],\n",
    "          9: ['#f768a1', '#c51b8a'], 10: ['#bdd7e7', '#6baed6'], 11: ['#f768a1', '#c51b8a'],\n",
    "          12: ['#bdd7e7', '#6baed6'], 13: ['#f768a1', '#c51b8a']}\n",
    "\n",
    "for i in range(len(Data)):\n",
    "    y = Data[i]\n",
    "    x = np.random.normal(BoxPos[i], 0.04, size=len(y))\n",
    "    MarkerFace, MarkerEdge = Colors[i][0], Colors[i][1]\n",
    "    ax.plot(x, y, '.', alpha=0.2, markerfacecolor=MarkerFace, markeredgecolor=MarkerEdge,\n",
    "            markersize=6, markeredgewidth=0.5)\n",
    "\n",
    "# -------------changes below-------------\n",
    "# plot data with boxplots\n",
    "# specify box plot order with zorder =2\n",
    "bp = ax.boxplot(Data, showmeans=False, showfliers=False, widths=0.3,\n",
    "                positions=[i/10 for i in range(0, 56, 4)], patch_artist=True, zorder=2)\n",
    "\n",
    "# make boxes transparent, change line width and line color\n",
    "for box in bp['boxes']:\n",
    "    # change line color\n",
    "    box.set(color = 'black', linewidth=1.8)\n",
    "    # pass rgba values to add transparency\n",
    "    box.set(facecolor = [0, 0, 0, 0])\n",
    "# change whisker color and line width\n",
    "for wk in bp['whiskers']:\n",
    "    wk.set(color = 'black', linestyle = '-', linewidth=1.8)\n",
    "# change caps color and line width\n",
    "for cap in bp['caps']:\n",
    "    cap.set(color = 'black', linewidth=1.8)\n",
    "# change median color and line width\n",
    "for median in bp['medians']:\n",
    "    median.set(color = '#54278f', linewidth=2.2)\n",
    "\n",
    "# -------------ending changes -------------\n",
    "\n",
    "# write axis labels\n",
    "ax.set_ylabel('Coverage', color='black', size=14, ha='center', weight= 'normal')\n",
    "ax.set_xlabel('Chromosomes', color='black', size=14, ha='center', weight='normal')\n",
    "# edit tick labels\n",
    "Chromosomes = ['1', '3', '4', '4', '6', '8', '9', '10', '15', '16', '19', '19', '19', '22']\n",
    "plt.xticks([i/10 for i in range(0, 56, 4)], Chromosomes, ha='center', fontsize=12)\n",
    "# add splace bewteen axis and tick labels\n",
    "ax.yaxis.labelpad = 17\n",
    "ax.xaxis.labelpad = 17\n",
    "\n",
    "# add title   \n",
    "ax.set_title('Coverage per region N = {0}'.format(len(Data[0])), size = 14, weight='bold')\n",
    "\n",
    "# do not show frame lines  \n",
    "ax.spines[\"top\"].set_visible(False)    \n",
    "ax.spines[\"bottom\"].set_visible(True)    \n",
    "ax.spines[\"right\"].set_visible(False)    \n",
    "ax.spines[\"left\"].set_visible(False)  \n",
    "# offset the bottom line\n",
    "for spine in ax.spines.values():\n",
    "    spine.set_position(('outward', 5))\n",
    "    \n",
    "# keep ticks only along the x axis, edit font size and change tick direction\n",
    "plt.tick_params(axis='both', which='both', bottom=True, top=False, right=False, left=False,\n",
    "                labelbottom=True, colors = 'black', labelsize = 12, direction = 'out')\n",
    "    \n",
    "# add a light grey horizontal grid to the plot, semi-transparent, \n",
    "ax.yaxis.grid(True, linestyle='-', which='major', color='lightgrey', alpha=0.7, linewidth = 0.5)  \n",
    "# hide these grids behind plot objects\n",
    "ax.set_axisbelow(True)\n",
    "\n",
    "# add legend\n",
    "C = mpatches.Circle((0.5,0.5), 0.25, facecolor = '#f768a1', edgecolor = 'black', linewidth = 0.5, label= 'captured')\n",
    "N = mpatches.Circle((0.5,0.5), 0.25, facecolor = '#bdd7e7', edgecolor = 'black', linewidth = 0.5, label= 'not captured')\n",
    "M = mpatches.Circle((0.5,0.5), 0.25, facecolor = '#c2e699', edgecolor = 'black', linewidth = 0.5, label= 'mixed')\n",
    "ax.legend(handles = [C, N, M], loc = (0.07, 0.92), fontsize = 10, frameon = False, ncol = 3)"
   ]
  }
 ],
 "metadata": {
  "kernelspec": {
   "display_name": "Python 3",
   "language": "python",
   "name": "python3"
  },
  "language_info": {
   "codemirror_mode": {
    "name": "ipython",
    "version": 3
   },
   "file_extension": ".py",
   "mimetype": "text/x-python",
   "name": "python",
   "nbconvert_exporter": "python",
   "pygments_lexer": "ipython3",
   "version": "3.6.3"
  }
 },
 "nbformat": 4,
 "nbformat_minor": 2
}
